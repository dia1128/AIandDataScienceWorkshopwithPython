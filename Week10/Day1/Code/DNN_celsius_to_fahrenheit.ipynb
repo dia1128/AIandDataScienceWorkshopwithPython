{
  "nbformat": 4,
  "nbformat_minor": 0,
  "metadata": {
    "colab": {
      "name": "DNN_celsius_to_fahrenheit.ipynb",
      "provenance": [],
      "collapsed_sections": [],
      "toc_visible": true
    },
    "kernelspec": {
      "display_name": "Python 3",
      "name": "python3"
    }
  },
  "cells": [
    {
      "cell_type": "markdown",
      "metadata": {
        "id": "iVv5r288AJ2r"
      },
      "source": [
        "Reference: Udacity\n"
      ]
    },
    {
      "cell_type": "markdown",
      "metadata": {
        "id": "0F4WDRtQEVeU"
      },
      "source": [
        "# Creating a Tensor with tf.constant()\n",
        "A Tensor can be a scalar, a vector or a matrix. Let's use tf.constant() to create these tensor types.\n",
        "\n",
        "A tensor created with tf.constant() is immutable."
      ]
    },
    {
      "cell_type": "code",
      "metadata": {
        "id": "O1C9OFnqAVWg"
      },
      "source": [
        "# We will first import tensorflow as tf\n",
        "\n",
        "import tensorflow as tf\n",
        "import numpy as np"
      ],
      "execution_count": 1,
      "outputs": []
    },
    {
      "cell_type": "code",
      "metadata": {
        "id": "ZPMe3IagAfIZ"
      },
      "source": [
        "# Creating a scalar tensor\n",
        "# We can specify dtype but TF will detect its if left unspecified\n",
        "\n",
        "scalar_tensor = tf.constant(10)"
      ],
      "execution_count": 2,
      "outputs": []
    },
    {
      "cell_type": "code",
      "metadata": {
        "colab": {
          "base_uri": "https://localhost:8080/"
        },
        "id": "DyZ2twrXAh9A",
        "outputId": "1e02a817-f901-41ab-a888-557ac20c2eaa"
      },
      "source": [
        "# Displaying created tensor\n",
        "\n",
        "print(scalar_tensor)"
      ],
      "execution_count": 3,
      "outputs": [
        {
          "output_type": "stream",
          "name": "stdout",
          "text": [
            "tf.Tensor(10, shape=(), dtype=int32)\n"
          ]
        }
      ]
    },
    {
      "cell_type": "code",
      "metadata": {
        "id": "X1lJ1TiOAj20"
      },
      "source": [
        "# We can also create a vector or rank 1 tensor\n",
        "# Simply put, a vector is one dimensional\n",
        "# We can create it from a list of values\n",
        "\n",
        "vect_tensor = tf.constant([1.0,2.0,3.0,4.0,5.0,6.0])"
      ],
      "execution_count": 4,
      "outputs": []
    },
    {
      "cell_type": "code",
      "metadata": {
        "colab": {
          "base_uri": "https://localhost:8080/"
        },
        "id": "0mPmyPZtAmwL",
        "outputId": "9ce2e9bf-503e-4033-def3-63ef27eb37c9"
      },
      "source": [
        "print(vect_tensor)"
      ],
      "execution_count": 5,
      "outputs": [
        {
          "output_type": "stream",
          "name": "stdout",
          "text": [
            "tf.Tensor([1. 2. 3. 4. 5. 6.], shape=(6,), dtype=float32)\n"
          ]
        }
      ]
    },
    {
      "cell_type": "markdown",
      "metadata": {
        "id": "--mYCb0VBCQ0"
      },
      "source": [
        "A vector of 1 dimensional values was created. As you can see, the data type is float32 because the values were floats. TensorFlow detects that automatically from values if the data type was not mentioned.\n",
        "\n",
        "Let's now create a tensor with rank 2 or two dimensions. This is actually a matrix."
      ]
    },
    {
      "cell_type": "code",
      "metadata": {
        "colab": {
          "base_uri": "https://localhost:8080/"
        },
        "id": "gdGzKlgCA9VH",
        "outputId": "30842040-8e7e-4b24-89c7-5a797267805e"
      },
      "source": [
        "mat_tensor = tf.constant([[2,4],\n",
        "                         [6,8],\n",
        "                         [10,12]], dtype=tf.int32)\n",
        "\n",
        "print(mat_tensor)"
      ],
      "execution_count": 8,
      "outputs": [
        {
          "output_type": "stream",
          "name": "stdout",
          "text": [
            "tf.Tensor(\n",
            "[[ 2  4]\n",
            " [ 6  8]\n",
            " [10 12]], shape=(3, 2), dtype=int32)\n"
          ]
        }
      ]
    },
    {
      "cell_type": "markdown",
      "metadata": {
        "id": "qva2sVYUBH-E"
      },
      "source": [
        "If you can see in the displayed tensor above, the shape is (3,2) which means our tensor has 3 rows and 2 columns.\n",
        "\n",
        "We can also check the number of dimensions or axes of a tensor using tensor_name.ndim"
      ]
    },
    {
      "cell_type": "code",
      "metadata": {
        "colab": {
          "base_uri": "https://localhost:8080/"
        },
        "id": "e_CXr1QGBM7p",
        "outputId": "478a9f02-00ca-4bc1-e43a-72e4b8cfbf5b"
      },
      "source": [
        "scalar_tensor.ndim"
      ],
      "execution_count": 9,
      "outputs": [
        {
          "output_type": "execute_result",
          "data": {
            "text/plain": [
              "0"
            ]
          },
          "metadata": {},
          "execution_count": 9
        }
      ]
    },
    {
      "cell_type": "markdown",
      "metadata": {
        "id": "XGulI922BOJg"
      },
      "source": [
        "A scalar tensor does not have any dimension. It's just a single value. But if we do the same thing for a vector or matrix, you will see something different."
      ]
    },
    {
      "cell_type": "code",
      "metadata": {
        "colab": {
          "base_uri": "https://localhost:8080/"
        },
        "id": "H1HjparABQnY",
        "outputId": "8c998175-0c62-47b4-fb4e-ac3664a05eac"
      },
      "source": [
        "# A vector has 1 dimension\n",
        "\n",
        "vect_tensor.ndim"
      ],
      "execution_count": 10,
      "outputs": [
        {
          "output_type": "execute_result",
          "data": {
            "text/plain": [
              "1"
            ]
          },
          "metadata": {},
          "execution_count": 10
        }
      ]
    },
    {
      "cell_type": "code",
      "metadata": {
        "colab": {
          "base_uri": "https://localhost:8080/"
        },
        "id": "HWb2RAfNBU8a",
        "outputId": "f182d166-9f0d-46a6-e819-b7a5f5ee6f0b"
      },
      "source": [
        "# A matrix has 2D or more dimensions\n",
        "\n",
        "mat_tensor.ndim"
      ],
      "execution_count": 11,
      "outputs": [
        {
          "output_type": "execute_result",
          "data": {
            "text/plain": [
              "2"
            ]
          },
          "metadata": {},
          "execution_count": 11
        }
      ]
    },
    {
      "cell_type": "markdown",
      "metadata": {
        "id": "zExgO8reBYbW"
      },
      "source": [
        "\n",
        "Just like NumPy array, a tensor can have many dimensions. Let's create a tensor with 3 dimensions."
      ]
    },
    {
      "cell_type": "code",
      "metadata": {
        "colab": {
          "base_uri": "https://localhost:8080/"
        },
        "id": "nxOxp8qtBaVY",
        "outputId": "de949ce4-22af-4403-f657-409b7760f381"
      },
      "source": [
        "tensor_3d = tf.constant([\n",
        "                         [[1,2,3,4,5],\n",
        "                         [6,7,8,9,8]],\n",
        "                         [[1,3,5,7,9],\n",
        "                         [2,4,6,8,1]],\n",
        "                         [[1,2,3,5,4],\n",
        "                         [3,4,5,6,7]], ])\n",
        "\n",
        "print(tensor_3d)"
      ],
      "execution_count": 12,
      "outputs": [
        {
          "output_type": "stream",
          "name": "stdout",
          "text": [
            "tf.Tensor(\n",
            "[[[1 2 3 4 5]\n",
            "  [6 7 8 9 8]]\n",
            "\n",
            " [[1 3 5 7 9]\n",
            "  [2 4 6 8 1]]\n",
            "\n",
            " [[1 2 3 5 4]\n",
            "  [3 4 5 6 7]]], shape=(3, 2, 5), dtype=int32)\n"
          ]
        }
      ]
    },
    {
      "cell_type": "code",
      "metadata": {
        "colab": {
          "base_uri": "https://localhost:8080/"
        },
        "id": "phjm4UJoBfPH",
        "outputId": "7a7672d7-d320-4c05-c9d3-b4909656ed59"
      },
      "source": [
        "tensor_3d.ndim"
      ],
      "execution_count": 13,
      "outputs": [
        {
          "output_type": "execute_result",
          "data": {
            "text/plain": [
              "3"
            ]
          },
          "metadata": {},
          "execution_count": 13
        }
      ]
    },
    {
      "cell_type": "markdown",
      "metadata": {
        "id": "5TDlzWLEBiX_"
      },
      "source": [
        "A tensor can be converted into NumPy array by calling tensor_name.numpy or np.array(tensor_name).\n",
        "\n",
        "TensorFlow plays well with NumPy. And if not yet done, TensorFlow recently posted that they are working on gettint the whole of NumPy into TensorFlow."
      ]
    },
    {
      "cell_type": "code",
      "metadata": {
        "colab": {
          "base_uri": "https://localhost:8080/"
        },
        "id": "U9U2-42eBl_n",
        "outputId": "bc08503e-1c9a-4605-be8f-7652e9541547"
      },
      "source": [
        "# Converting a tensor into a NumPy array\n",
        "\n",
        "n_array = tensor_3d.numpy()\n",
        "\n",
        "n_array"
      ],
      "execution_count": 14,
      "outputs": [
        {
          "output_type": "execute_result",
          "data": {
            "text/plain": [
              "array([[[1, 2, 3, 4, 5],\n",
              "        [6, 7, 8, 9, 8]],\n",
              "\n",
              "       [[1, 3, 5, 7, 9],\n",
              "        [2, 4, 6, 8, 1]],\n",
              "\n",
              "       [[1, 2, 3, 5, 4],\n",
              "        [3, 4, 5, 6, 7]]], dtype=int32)"
            ]
          },
          "metadata": {},
          "execution_count": 14
        }
      ]
    },
    {
      "cell_type": "code",
      "metadata": {
        "colab": {
          "base_uri": "https://localhost:8080/"
        },
        "id": "fr4B7jr_Bo6W",
        "outputId": "f857d758-aa7f-46a7-a5bb-724e37ca72a2"
      },
      "source": [
        "# Using np.array(tensor_name)\n",
        "\n",
        "np.array(tensor_3d)"
      ],
      "execution_count": 15,
      "outputs": [
        {
          "output_type": "execute_result",
          "data": {
            "text/plain": [
              "array([[[1, 2, 3, 4, 5],\n",
              "        [6, 7, 8, 9, 8]],\n",
              "\n",
              "       [[1, 3, 5, 7, 9],\n",
              "        [2, 4, 6, 8, 1]],\n",
              "\n",
              "       [[1, 2, 3, 5, 4],\n",
              "        [3, 4, 5, 6, 7]]], dtype=int32)"
            ]
          },
          "metadata": {},
          "execution_count": 15
        }
      ]
    },
    {
      "cell_type": "markdown",
      "metadata": {
        "id": "7h9eAxkPBys5"
      },
      "source": [
        "## Creating a Tensor with tf.Variable"
      ]
    },
    {
      "cell_type": "markdown",
      "metadata": {
        "id": "4d1o2g89B6e8"
      },
      "source": [
        "A tensor created with tf.constant() is immutable, it can not be changed. Such kind of tensor can not be used as weights in neural networks because they need to be changed/updated in backpropogation for example.\n",
        "\n",
        "With tf.Variable(), we can create tensors that can be mutable and thus can be used in things like updating the weights of neural networks like said above.\n",
        "\n",
        "Creating variable tensor is as simple as the former."
      ]
    },
    {
      "cell_type": "code",
      "metadata": {
        "colab": {
          "base_uri": "https://localhost:8080/"
        },
        "id": "dgEePcfNCBEs",
        "outputId": "21c23168-f437-4022-ba64-6ba59678f3bb"
      },
      "source": [
        "var_tensor = tf.Variable([\n",
        "                         [[1,2,3,4,5],\n",
        "                         [6,7,8,9,8]],\n",
        "                         [[1,3,5,7,9],\n",
        "                         [2,4,6,8,1]],\n",
        "                         [[1,2,3,5,4],\n",
        "                         [3,4,5,6,7]], ])\n",
        "\n",
        "print(var_tensor)"
      ],
      "execution_count": 16,
      "outputs": [
        {
          "output_type": "stream",
          "name": "stdout",
          "text": [
            "<tf.Variable 'Variable:0' shape=(3, 2, 5) dtype=int32, numpy=\n",
            "array([[[1, 2, 3, 4, 5],\n",
            "        [6, 7, 8, 9, 8]],\n",
            "\n",
            "       [[1, 3, 5, 7, 9],\n",
            "        [2, 4, 6, 8, 1]],\n",
            "\n",
            "       [[1, 2, 3, 5, 4],\n",
            "        [3, 4, 5, 6, 7]]], dtype=int32)>\n"
          ]
        }
      ]
    },
    {
      "cell_type": "code",
      "metadata": {
        "colab": {
          "base_uri": "https://localhost:8080/"
        },
        "id": "jTROqSLfCEma",
        "outputId": "a61aaf49-bec2-46d0-bef9-12337b06e87a"
      },
      "source": [
        "# Converting a variable tensor into NumPy array\n",
        "\n",
        "var_tensor.numpy()"
      ],
      "execution_count": 17,
      "outputs": [
        {
          "output_type": "execute_result",
          "data": {
            "text/plain": [
              "array([[[1, 2, 3, 4, 5],\n",
              "        [6, 7, 8, 9, 8]],\n",
              "\n",
              "       [[1, 3, 5, 7, 9],\n",
              "        [2, 4, 6, 8, 1]],\n",
              "\n",
              "       [[1, 2, 3, 5, 4],\n",
              "        [3, 4, 5, 6, 7]]], dtype=int32)"
            ]
          },
          "metadata": {},
          "execution_count": 17
        }
      ]
    },
    {
      "cell_type": "markdown",
      "metadata": {
        "id": "GrFE7zQHCHVa"
      },
      "source": [
        "## Creating a Tensor from Existing Functions"
      ]
    },
    {
      "cell_type": "markdown",
      "metadata": {
        "id": "HBs2_xusCJnS"
      },
      "source": [
        "There some types of uniform tensors that you would not want to create from scratch, when in fact, they are already built.\n",
        "\n",
        "Take an example of 1's tensor, 0's, and random tensors. Let's create them."
      ]
    },
    {
      "cell_type": "code",
      "metadata": {
        "colab": {
          "base_uri": "https://localhost:8080/"
        },
        "id": "XQIz9qL5CMIv",
        "outputId": "b8a1a5e5-03a9-4d64-802d-98e379195306"
      },
      "source": [
        "# Creating 1's tensor\n",
        "\n",
        "ones_tensor = tf.ones([4,4])\n",
        "\n",
        "print(ones_tensor)"
      ],
      "execution_count": 18,
      "outputs": [
        {
          "output_type": "stream",
          "name": "stdout",
          "text": [
            "tf.Tensor(\n",
            "[[1. 1. 1. 1.]\n",
            " [1. 1. 1. 1.]\n",
            " [1. 1. 1. 1.]\n",
            " [1. 1. 1. 1.]], shape=(4, 4), dtype=float32)\n"
          ]
        }
      ]
    },
    {
      "cell_type": "code",
      "metadata": {
        "colab": {
          "base_uri": "https://localhost:8080/"
        },
        "id": "4cz6lxkICcm5",
        "outputId": "93068143-b66b-41f2-beba-6c76ef713c9b"
      },
      "source": [
        "# Generating a tensor with random values \n",
        "\n",
        "# We first have to create a generator object\n",
        "\n",
        "rand_tensor = tf.random.Generator.from_seed(3)\n",
        "\n",
        "rand_tensor = rand_tensor.normal(shape=[3,3])\n",
        "print(rand_tensor)"
      ],
      "execution_count": 19,
      "outputs": [
        {
          "output_type": "stream",
          "name": "stdout",
          "text": [
            "tf.Tensor(\n",
            "[[-0.43640924 -1.9633987  -0.06452483]\n",
            " [-1.056841    1.0019137   0.6735137 ]\n",
            " [ 0.06987712 -1.4077919   1.0278524 ]], shape=(3, 3), dtype=float32)\n"
          ]
        }
      ]
    },
    {
      "cell_type": "markdown",
      "metadata": {
        "id": "rOVWzVV2ChwF"
      },
      "source": [
        "Changing seed number in tf.random.Generator.from_seed(3) will change the values returned by random function.\n",
        "\n",
        "We can also shuffle the existing tensor, created with tf.constant() or tf.Variable()."
      ]
    },
    {
      "cell_type": "code",
      "metadata": {
        "colab": {
          "base_uri": "https://localhost:8080/"
        },
        "id": "HdnZ_84QCinD",
        "outputId": "944251ea-9aa5-498c-dc71-df956c9a6721"
      },
      "source": [
        "# Create a typical tensor \n",
        "\n",
        "example_tensor = tf.constant([[1,3],\n",
        "                             [3,4],\n",
        "                             [4,5]])\n",
        "\n",
        "print(example_tensor)"
      ],
      "execution_count": 20,
      "outputs": [
        {
          "output_type": "stream",
          "name": "stdout",
          "text": [
            "tf.Tensor(\n",
            "[[1 3]\n",
            " [3 4]\n",
            " [4 5]], shape=(3, 2), dtype=int32)\n"
          ]
        }
      ]
    },
    {
      "cell_type": "code",
      "metadata": {
        "id": "0qRzpA1dCmlO"
      },
      "source": [
        "def shuffle_tensor(tensor):\n",
        "\n",
        "  \"\"\"\n",
        "  Take a tensor as input and return the shuffled tensor\n",
        "  \"\"\"\n",
        "  # Shuffle the order of the created tensor\n",
        "\n",
        "  tensor_shuffled = tf.random.shuffle(tensor)\n",
        "\n",
        "  return print(tensor_shuffled)"
      ],
      "execution_count": 21,
      "outputs": []
    },
    {
      "cell_type": "code",
      "metadata": {
        "colab": {
          "base_uri": "https://localhost:8080/"
        },
        "id": "eRt28BVkCpfz",
        "outputId": "93358c01-140e-4466-b312-339b1397f4f8"
      },
      "source": [
        "shuffle_tensor(example_tensor)"
      ],
      "execution_count": 22,
      "outputs": [
        {
          "output_type": "stream",
          "name": "stdout",
          "text": [
            "tf.Tensor(\n",
            "[[4 5]\n",
            " [3 4]\n",
            " [1 3]], shape=(3, 2), dtype=int32)\n"
          ]
        }
      ]
    },
    {
      "cell_type": "markdown",
      "metadata": {
        "id": "_Yherl-YCsO0"
      },
      "source": [
        "\n",
        "If you rerun the above cell more than once, you will get different orders of tensor"
      ]
    },
    {
      "cell_type": "code",
      "metadata": {
        "colab": {
          "base_uri": "https://localhost:8080/"
        },
        "id": "ugqVtXebCtkg",
        "outputId": "d992f6c6-ae1d-4df7-f2c7-ac1c56b08593"
      },
      "source": [
        "shuffle_tensor(example_tensor)"
      ],
      "execution_count": 23,
      "outputs": [
        {
          "output_type": "stream",
          "name": "stdout",
          "text": [
            "tf.Tensor(\n",
            "[[4 5]\n",
            " [1 3]\n",
            " [3 4]], shape=(3, 2), dtype=int32)\n"
          ]
        }
      ]
    },
    {
      "cell_type": "markdown",
      "metadata": {
        "id": "aReKxXLyCxuP"
      },
      "source": [
        "In order to prevent that, we can use tf.random.set_seed(seed_number) to always get the same order/values."
      ]
    },
    {
      "cell_type": "code",
      "metadata": {
        "colab": {
          "base_uri": "https://localhost:8080/"
        },
        "id": "uKBsX_r-Czzx",
        "outputId": "c90bb707-3e74-4cf8-f5db-80340f1eeee2"
      },
      "source": [
        "# Set seed \n",
        "\n",
        "tf.random.set_seed(42)\n",
        "\n",
        "shuffle_tensor(example_tensor)"
      ],
      "execution_count": 24,
      "outputs": [
        {
          "output_type": "stream",
          "name": "stdout",
          "text": [
            "tf.Tensor(\n",
            "[[3 4]\n",
            " [4 5]\n",
            " [1 3]], shape=(3, 2), dtype=int32)\n"
          ]
        }
      ]
    },
    {
      "cell_type": "markdown",
      "metadata": {
        "id": "6qZyTGD4C4RL"
      },
      "source": [
        "Everytime you can run shuffle_tensor function with a same seed, you will get the same order.\n",
        "\n",
        "You can learn more about Random number generation at TensorFlow docs.\n",
        "\n",
        "\n"
      ]
    },
    {
      "cell_type": "markdown",
      "metadata": {
        "id": "BKigxB3RC9Is"
      },
      "source": [
        "## Selecting Data in Tensor"
      ]
    },
    {
      "cell_type": "markdown",
      "metadata": {
        "id": "TC4Cr5E4C_yg"
      },
      "source": [
        "We can also select values in any tensor, both single dimensional tensor and multi dimensional tensor."
      ]
    },
    {
      "cell_type": "code",
      "metadata": {
        "id": "-iiz2E1DDCRI"
      },
      "source": [
        "\n",
        "# Let's create a tensor\n",
        "\n",
        "tensor_1d = tf.constant([1,2,3,4,5,6,7])"
      ],
      "execution_count": 25,
      "outputs": []
    },
    {
      "cell_type": "code",
      "metadata": {
        "colab": {
          "base_uri": "https://localhost:8080/"
        },
        "id": "Ikz6_dUiDEek",
        "outputId": "a4852fed-a574-4757-be6c-c04195cf003b"
      },
      "source": [
        "print('The first value:', tensor_1d[0].numpy())\n",
        "print('The second value:', tensor_1d[2].numpy())\n",
        "print('From the 3 to 5th values:', tensor_1d[3:5].numpy())\n",
        "print('From the 3 to last value:', tensor_1d[3:].numpy())\n",
        "print('The last value:', tensor_1d[-1].numpy())\n",
        "print('Select value before the last value:', tensor_1d[-2].numpy())\n",
        "print('Select all tensor values:', tensor_1d[:].numpy())\n"
      ],
      "execution_count": 26,
      "outputs": [
        {
          "output_type": "stream",
          "name": "stdout",
          "text": [
            "The first value: 1\n",
            "The second value: 3\n",
            "From the 3 to 5th values: [4 5]\n",
            "From the 3 to last value: [4 5 6 7]\n",
            "The last value: 7\n",
            "Select value before the last value: 6\n",
            "Select all tensor values: [1 2 3 4 5 6 7]\n"
          ]
        }
      ]
    },
    {
      "cell_type": "markdown",
      "metadata": {
        "id": "37YgGRSSDIeE"
      },
      "source": [
        "Selecting/indexing data in tensor is similar to Python list indexing, and NumPy also.\n",
        "\n",
        "Let's also select data in 2D tensor."
      ]
    },
    {
      "cell_type": "code",
      "metadata": {
        "id": "t7DRRQCiDLB0"
      },
      "source": [
        "tensor_2d = tf.constant([[1,3],\n",
        "                          [3,4],\n",
        "                          [4,5]])"
      ],
      "execution_count": 27,
      "outputs": []
    },
    {
      "cell_type": "code",
      "metadata": {
        "colab": {
          "base_uri": "https://localhost:8080/"
        },
        "id": "AYnJ6ALyDOLb",
        "outputId": "81d35687-c407-47ae-a322-4cd5f13f3aba"
      },
      "source": [
        "print('The first row:', tensor_2d[0,:].numpy())\n",
        "print('The second column:', tensor_2d[:,1].numpy())\n",
        "print('The last low:', tensor_2d[-1,:].numpy())\n",
        "print('The first value in the last row:', tensor_2d[-1,0].numpy())\n",
        "print('The last value in the last column:', tensor_2d[-1,-1].numpy())"
      ],
      "execution_count": 28,
      "outputs": [
        {
          "output_type": "stream",
          "name": "stdout",
          "text": [
            "The first row: [1 3]\n",
            "The second column: [3 4 5]\n",
            "The last low: [4 5]\n",
            "The first value in the last row: 4\n",
            "The last value in the last column: 5\n"
          ]
        }
      ]
    },
    {
      "cell_type": "markdown",
      "metadata": {
        "id": "s2XAbb6CDZJC"
      },
      "source": [
        "## Performing Operations on Tensors"
      ]
    },
    {
      "cell_type": "markdown",
      "metadata": {
        "id": "hIBPQ1blDbwP"
      },
      "source": [
        "All numeric operations can be performed on tensor. Let's see few of them"
      ]
    },
    {
      "cell_type": "code",
      "metadata": {
        "id": "DtruykrEDdpm"
      },
      "source": [
        "# Creating example tensors \n",
        "\n",
        "tensor_1 = tf.constant([1,2,3])\n",
        "tensor_2 = tf.constant([4,5,6])"
      ],
      "execution_count": 29,
      "outputs": []
    },
    {
      "cell_type": "code",
      "metadata": {
        "colab": {
          "base_uri": "https://localhost:8080/"
        },
        "id": "ryD-p3nDDwqs",
        "outputId": "d369f9db-934e-4841-803c-d2a660436d79"
      },
      "source": [
        "# Adding a scalar value to a tensor\n",
        "\n",
        "print(tensor_1 + 4)"
      ],
      "execution_count": 30,
      "outputs": [
        {
          "output_type": "stream",
          "name": "stdout",
          "text": [
            "tf.Tensor([5 6 7], shape=(3,), dtype=int32)\n"
          ]
        }
      ]
    },
    {
      "cell_type": "code",
      "metadata": {
        "colab": {
          "base_uri": "https://localhost:8080/"
        },
        "id": "Td3LhYNlD5cs",
        "outputId": "f3d7650d-666d-484d-dfcf-d04cf75ef24e"
      },
      "source": [
        "# multiplying tensors with tf.multiply()\n",
        "\n",
        "print(tf.multiply(tensor_1, tensor_2))"
      ],
      "execution_count": 31,
      "outputs": [
        {
          "output_type": "stream",
          "name": "stdout",
          "text": [
            "tf.Tensor([ 4 10 18], shape=(3,), dtype=int32)\n"
          ]
        }
      ]
    },
    {
      "cell_type": "markdown",
      "metadata": {
        "id": "U1tP4gJrD8fg"
      },
      "source": [
        "## Manipulating the Shape of Tensor"
      ]
    },
    {
      "cell_type": "code",
      "metadata": {
        "colab": {
          "base_uri": "https://localhost:8080/"
        },
        "id": "bBc3J2IaD9n6",
        "outputId": "6d2826b8-7fab-48d0-d1d7-8d38291ea92b"
      },
      "source": [
        "print(example_tensor)"
      ],
      "execution_count": 32,
      "outputs": [
        {
          "output_type": "stream",
          "name": "stdout",
          "text": [
            "tf.Tensor(\n",
            "[[1 3]\n",
            " [3 4]\n",
            " [4 5]], shape=(3, 2), dtype=int32)\n"
          ]
        }
      ]
    },
    {
      "cell_type": "markdown",
      "metadata": {
        "id": "DJ80bUImEBKN"
      },
      "source": [
        "\n",
        "Let's reshape the above tensor into (2,3)."
      ]
    },
    {
      "cell_type": "code",
      "metadata": {
        "id": "8P5q-EM_ECAu"
      },
      "source": [
        "tens_reshaped = tf.reshape(example_tensor, [2,3])"
      ],
      "execution_count": 33,
      "outputs": []
    },
    {
      "cell_type": "code",
      "metadata": {
        "colab": {
          "base_uri": "https://localhost:8080/"
        },
        "id": "0sy7WWvgEGEi",
        "outputId": "863e6934-463a-40b9-9e4e-2c7579a17b54"
      },
      "source": [
        "print(tens_reshaped)"
      ],
      "execution_count": 34,
      "outputs": [
        {
          "output_type": "stream",
          "name": "stdout",
          "text": [
            "tf.Tensor(\n",
            "[[1 3 3]\n",
            " [4 4 5]], shape=(2, 3), dtype=int32)\n"
          ]
        }
      ]
    },
    {
      "cell_type": "code",
      "metadata": {
        "colab": {
          "base_uri": "https://localhost:8080/"
        },
        "id": "DbbpfTIpEIAQ",
        "outputId": "b2eec895-38db-4e97-a38d-777831c25b3f"
      },
      "source": [
        "\n",
        "# Also to (6,1)\n",
        "\n",
        "print(tf.reshape(example_tensor, [6,1]))"
      ],
      "execution_count": 35,
      "outputs": [
        {
          "output_type": "stream",
          "name": "stdout",
          "text": [
            "tf.Tensor(\n",
            "[[1]\n",
            " [3]\n",
            " [3]\n",
            " [4]\n",
            " [4]\n",
            " [5]], shape=(6, 1), dtype=int32)\n"
          ]
        }
      ]
    },
    {
      "cell_type": "code",
      "metadata": {
        "colab": {
          "base_uri": "https://localhost:8080/"
        },
        "id": "XdcJvZarEKEc",
        "outputId": "7408e79d-9de0-4c62-d543-eba0df8132c0"
      },
      "source": [
        "# You can also shape a tensor into a list\n",
        "\n",
        "print(example_tensor.shape.as_list())"
      ],
      "execution_count": 36,
      "outputs": [
        {
          "output_type": "stream",
          "name": "stdout",
          "text": [
            "[3, 2]\n"
          ]
        }
      ]
    },
    {
      "cell_type": "code",
      "metadata": {
        "colab": {
          "base_uri": "https://localhost:8080/"
        },
        "id": "57feJmxuEPqE",
        "outputId": "8dcdbcf3-7894-43dc-d3cc-439743cdfcff"
      },
      "source": [
        "# You can also flatten a tensor\n",
        "\n",
        "print(tf.reshape(example_tensor, [-1]))"
      ],
      "execution_count": 37,
      "outputs": [
        {
          "output_type": "stream",
          "name": "stdout",
          "text": [
            "tf.Tensor([1 3 3 4 4 5], shape=(6,), dtype=int32)\n"
          ]
        }
      ]
    },
    {
      "cell_type": "markdown",
      "metadata": {
        "id": "EeF1K2ijAb2V"
      },
      "source": [
        "# The Basics: Training Your First Model"
      ]
    },
    {
      "cell_type": "markdown",
      "metadata": {
        "id": "F8YVA_634OFk"
      },
      "source": [
        "The problem we will solve here is to convert from Celsius to Fahrenheit, where the approximate formula is:\n",
        "\n",
        "$$ f = c \\times 1.8 + 32 $$\n",
        "\n",
        "\n",
        "Of course, it would be simple enough to create a conventional Python function that directly performs this calculation, but that wouldn't be machine learning.\n",
        "\n",
        "\n",
        "Instead, we will give TensorFlow some sample Celsius values (0, 8, 15, 22, 38) and their corresponding Fahrenheit values (32, 46, 59, 72, 100).\n",
        "Then, we will train a model that figures out the above formula through the training process."
      ]
    },
    {
      "cell_type": "markdown",
      "metadata": {
        "id": "fA93WUy1zzWf"
      },
      "source": [
        "## Import dependencies\n",
        "\n",
        "First, import TensorFlow. Here, we're calling it `tf` for ease of use. We also tell it to only display errors.\n",
        "\n",
        "Next, import [NumPy](http://www.numpy.org/) as `np`. "
      ]
    },
    {
      "cell_type": "code",
      "metadata": {
        "id": "-ZMgCvSRFqxE"
      },
      "source": [
        "import tensorflow as tf"
      ],
      "execution_count": null,
      "outputs": []
    },
    {
      "cell_type": "code",
      "metadata": {
        "id": "y_WQEM5MGmg3"
      },
      "source": [
        "import numpy as np\n",
        "import logging\n",
        "logger = tf.get_logger()\n",
        "logger.setLevel(logging.ERROR)"
      ],
      "execution_count": null,
      "outputs": []
    },
    {
      "cell_type": "markdown",
      "metadata": {
        "id": "AC3EQFi20buB"
      },
      "source": [
        "## Set up training data\n",
        "\n",
        "We will create two lists `celsius_q` and `fahrenheit_a` that we can use to train our model."
      ]
    },
    {
      "cell_type": "code",
      "metadata": {
        "id": "gg4pn6aI1vms",
        "colab": {
          "base_uri": "https://localhost:8080/"
        },
        "outputId": "0bcf43c7-7eae-413e-aba0-d3633d7cde7e"
      },
      "source": [
        "celsius_q    = np.array([-40, -10,  0,  8, 15, 22,  38],  dtype=float)\n",
        "fahrenheit_a = np.array([-40,  14, 32, 46, 59, 72, 100],  dtype=float)\n",
        "\n",
        "for i,c in enumerate(celsius_q):\n",
        "  print(\"{} degrees Celsius = {} degrees Fahrenheit\".format(c, fahrenheit_a[i]))"
      ],
      "execution_count": null,
      "outputs": [
        {
          "output_type": "stream",
          "name": "stdout",
          "text": [
            "-40.0 degrees Celsius = -40.0 degrees Fahrenheit\n",
            "-10.0 degrees Celsius = 14.0 degrees Fahrenheit\n",
            "0.0 degrees Celsius = 32.0 degrees Fahrenheit\n",
            "8.0 degrees Celsius = 46.0 degrees Fahrenheit\n",
            "15.0 degrees Celsius = 59.0 degrees Fahrenheit\n",
            "22.0 degrees Celsius = 72.0 degrees Fahrenheit\n",
            "38.0 degrees Celsius = 100.0 degrees Fahrenheit\n"
          ]
        }
      ]
    },
    {
      "cell_type": "markdown",
      "metadata": {
        "id": "wwJGmDrQ0EoB"
      },
      "source": [
        "### Some Machine Learning terminology\n",
        "\n",
        " - **Feature** — The input(s) to our model. In this case, a single value — the degrees in Celsius.\n",
        "\n",
        " - **Labels** — The output our model predicts. In this case, a single value — the degrees in Fahrenheit.\n",
        "\n",
        " - **Example** — A pair of inputs/outputs used during training. In our case a pair of values from `celsius_q` and `fahrenheit_a` at a specific index, such as `(22,72)`.\n"
      ]
    },
    {
      "cell_type": "markdown",
      "metadata": {
        "id": "VM7_9Klvq7MO"
      },
      "source": [
        "## Create the model\n",
        "\n",
        "Next, create the model. We will use the simplest possible model we can, a Dense network. Since the problem is straightforward, this network will require only a single layer, with a single neuron.\n",
        "\n",
        "### Build a layer\n",
        "\n",
        "We'll call the layer `l0` and create it by instantiating `tf.keras.layers.Dense` with the following configuration:\n",
        "\n",
        "*   `input_shape=[1]` — This specifies that the input to this layer is a single value. That is, the shape is a one-dimensional array with one member. Since this is the first (and only) layer, that input shape is the input shape of the entire model. The single value is a floating point number, representing degrees Celsius.\n",
        "\n",
        "*   `units=1` — This specifies the number of neurons in the layer. The number of neurons defines how many internal variables the layer has to try to learn how to solve the problem (more later). Since this is the final layer, it is also the size of the model's output — a single float value representing degrees Fahrenheit. (In a multi-layered network, the size and shape of the layer would need to match the `input_shape` of the next layer.)\n"
      ]
    },
    {
      "cell_type": "code",
      "metadata": {
        "id": "pRllo2HLfXiu"
      },
      "source": [
        "l0 = tf.keras.layers.Dense(units=1, input_shape=[1])"
      ],
      "execution_count": null,
      "outputs": []
    },
    {
      "cell_type": "markdown",
      "metadata": {
        "id": "_F00_J9duLBD"
      },
      "source": [
        "### Assemble layers into the model\n",
        "\n",
        "Once layers are defined, they need to be assembled into a model. The Sequential model definition takes a list of layers as an argument, specifying the calculation order from the input to the output.\n",
        "\n",
        "This model has just a single layer, l0."
      ]
    },
    {
      "cell_type": "code",
      "metadata": {
        "id": "cSp-GpLSuMRq"
      },
      "source": [
        "model = tf.keras.Sequential([l0])"
      ],
      "execution_count": null,
      "outputs": []
    },
    {
      "cell_type": "markdown",
      "metadata": {
        "id": "t7pfHfWxust0"
      },
      "source": [
        "**Note**\n",
        "\n",
        "You will often see the layers defined inside the model definition, rather than beforehand:\n",
        "\n",
        "```python\n",
        "model = tf.keras.Sequential([\n",
        "  tf.keras.layers.Dense(units=1, input_shape=[1])\n",
        "])\n",
        "```"
      ]
    },
    {
      "cell_type": "markdown",
      "metadata": {
        "id": "kiZG7uhm8qCF"
      },
      "source": [
        "## Compile the model, with loss and optimizer functions\n",
        "\n",
        "Before training, the model has to be compiled. When compiled for training, the model is given:\n",
        "\n",
        "- **Loss function** — A way of measuring how far off predictions are from the desired outcome. (The measured difference is called the \"loss\".)\n",
        "\n",
        "- **Optimizer function** — A way of adjusting internal values in order to reduce the loss.\n"
      ]
    },
    {
      "cell_type": "code",
      "metadata": {
        "id": "m8YQN1H41L-Y"
      },
      "source": [
        "model.compile(loss='mean_squared_error',\n",
        "              optimizer=tf.keras.optimizers.Adam(0.1))"
      ],
      "execution_count": null,
      "outputs": []
    },
    {
      "cell_type": "markdown",
      "metadata": {
        "id": "17M3Pqv4P52R"
      },
      "source": [
        "These are used during training (`model.fit()`, below) to first calculate the loss at each point, and then improve it. In fact, the act of calculating the current loss of a model and then improving it is precisely what training is.\n",
        "\n",
        "During training, the optimizer function is used to calculate adjustments to the model's internal variables. The goal is to adjust the internal variables until the model (which is really a math function) mirrors the actual equation for converting Celsius to Fahrenheit.\n",
        "\n",
        "TensorFlow uses numerical analysis to perform this tuning, and all this complexity is hidden from you so we will not go into the details here. What is useful to know about these parameters are:\n",
        "\n",
        "The loss function ([mean squared error](https://en.wikipedia.org/wiki/Mean_squared_error)) and the optimizer ([Adam](https://machinelearningmastery.com/adam-optimization-algorithm-for-deep-learning/)) used here are standard for simple models like this one, but many others are available. It is not important to know how these specific functions work at this point.\n",
        "\n",
        "One part of the Optimizer you may need to think about when building your own models is the learning rate (`0.1` in the code above). This is the step size taken when adjusting values in the model. If the value is too small, it will take too many iterations to train the model. Too large, and accuracy goes down. Finding a good value often involves some trial and error, but the range is usually within 0.001 (default), and 0.1"
      ]
    },
    {
      "cell_type": "markdown",
      "metadata": {
        "id": "c-Jk4dG91dvD"
      },
      "source": [
        "## Train the model\n",
        "\n",
        "Train the model by calling the `fit` method.\n",
        "\n",
        "During training, the model takes in Celsius values, performs a calculation using the current internal variables (called \"weights\") and outputs values which are meant to be the Fahrenheit equivalent. Since the weights are initially set randomly, the output will not be close to the correct value. The difference between the actual output and the desired output is calculated using the loss function, and the optimizer function directs how the weights should be adjusted.\n",
        "\n",
        "This cycle of calculate, compare, adjust is controlled by the `fit` method. The first argument is the inputs, the second argument is the desired outputs. The `epochs` argument specifies how many times this cycle should be run, and the `verbose` argument controls how much output the method produces."
      ]
    },
    {
      "cell_type": "code",
      "metadata": {
        "id": "lpRrl7WK10Pq",
        "colab": {
          "base_uri": "https://localhost:8080/"
        },
        "outputId": "5c6f207e-e049-4f39-bd36-d7cbc4a2e646"
      },
      "source": [
        "history = model.fit(celsius_q, fahrenheit_a, epochs=500, verbose=False)\n",
        "print(\"Finished training the model\")"
      ],
      "execution_count": null,
      "outputs": [
        {
          "output_type": "stream",
          "name": "stdout",
          "text": [
            "Finished training the model\n"
          ]
        }
      ]
    },
    {
      "cell_type": "code",
      "metadata": {
        "id": "IeK6BzfbdO6_",
        "colab": {
          "base_uri": "https://localhost:8080/",
          "height": 296
        },
        "outputId": "6b6ee5cf-e1a6-4f9e-8bd7-0b14a55697b3"
      },
      "source": [
        "import matplotlib.pyplot as plt\n",
        "plt.xlabel('Epoch Number')\n",
        "plt.ylabel(\"Loss Magnitude\")\n",
        "plt.plot(history.history['loss'])"
      ],
      "execution_count": null,
      "outputs": [
        {
          "output_type": "execute_result",
          "data": {
            "text/plain": [
              "[<matplotlib.lines.Line2D at 0x7f31805b5ad0>]"
            ]
          },
          "metadata": {},
          "execution_count": 9
        },
        {
          "output_type": "display_data",
          "data": {
            "image/png": "[encoded data removed]",
            "text/plain": [
              "<Figure size 432x288 with 1 Axes>"
            ]
          },
          "metadata": {
            "needs_background": "light"
          }
        }
      ]
    },
    {
      "cell_type": "markdown",
      "metadata": {
        "id": "LtQGDMob5LOD"
      },
      "source": [
        "## Use the model to predict values\n",
        "\n",
        "Now you have a model that has been trained to learn the relationship between `celsius_q` and `fahrenheit_a`. You can use the predict method to have it calculate the Fahrenheit degrees for a previously unknown Celsius degrees.\n",
        "\n",
        "So, for example, if the Celsius value is 100, what do you think the Fahrenheit result will be? Take a guess before you run this code."
      ]
    },
    {
      "cell_type": "code",
      "metadata": {
        "id": "oxNzL4lS2Gui",
        "colab": {
          "base_uri": "https://localhost:8080/"
        },
        "outputId": "565aa16c-0b41-416a-d7a9-69059f170678"
      },
      "source": [
        "print(model.predict([100.0]))"
      ],
      "execution_count": null,
      "outputs": [
        {
          "output_type": "stream",
          "name": "stdout",
          "text": [
            "[[211.74036]]\n"
          ]
        }
      ]
    },
    {
      "cell_type": "markdown",
      "metadata": {
        "id": "jApk6tZ1fBg1"
      },
      "source": [
        "The correct answer is $100 \\times 1.8 + 32 = 212$, so our model is doing really well.\n",
        "\n",
        "### To review\n",
        "\n",
        "\n",
        "*   We created a model with a Dense layer\n",
        "*   We trained it with 3500 examples (7 pairs, over 500 epochs).\n",
        "\n",
        "Our model tuned the variables (weights) in the Dense layer until it was able to return the correct Fahrenheit value for any Celsius value. (Remember, 100 Celsius was not part of our training data.)\n"
      ]
    },
    {
      "cell_type": "markdown",
      "metadata": {
        "id": "zRrOky5gm20Z"
      },
      "source": [
        "## Looking at the layer weights\n",
        "\n",
        "Finally, let's print the internal variables of the Dense layer. "
      ]
    },
    {
      "cell_type": "code",
      "metadata": {
        "id": "kmIkVdkbnZJI"
      },
      "source": [
        "print(\"These are the layer variables: {}\".format(l0.get_weights()))"
      ],
      "execution_count": null,
      "outputs": []
    },
    {
      "cell_type": "markdown",
      "metadata": {
        "id": "RSplSnMvnWC-"
      },
      "source": [
        "The first variable is close to ~1.8 and the second to ~32. These values (1.8 and 32) are the actual variables in the real conversion formula.\n",
        "\n",
        "This is really close to the values in the conversion formula. We'll explain this in an upcoming video where we show how a Dense layer works, but for a single neuron with a single input and a single output, the internal math looks the same as [the equation for a line](https://en.wikipedia.org/wiki/Linear_equation#Slope%E2%80%93intercept_form), $y = mx + b$, which has the same form as the conversion equation, $f = 1.8c + 32$.\n",
        "\n",
        "Since the form is the same, the variables should converge on the standard values of 1.8 and 32, which is exactly what happened.\n",
        "\n",
        "With additional neurons, additional inputs, and additional outputs, the formula becomes much more complex, but the idea is the same.\n",
        "\n",
        "### A little experiment\n",
        "\n",
        "Just for fun, what if we created more Dense layers with different units, which therefore also has more variables?"
      ]
    },
    {
      "cell_type": "code",
      "metadata": {
        "id": "Y2zTA-rDS5Xk",
        "colab": {
          "base_uri": "https://localhost:8080/"
        },
        "outputId": "3ccacdfd-2432-435e-a41a-dabace9c45a2"
      },
      "source": [
        "l0 = tf.keras.layers.Dense(units=4, input_shape=[1])\n",
        "l1 = tf.keras.layers.Dense(units=4)\n",
        "l2 = tf.keras.layers.Dense(units=1)\n",
        "model = tf.keras.Sequential([l0, l1, l2])\n",
        "model.compile(loss='mean_squared_error', optimizer=tf.keras.optimizers.Adam(0.1))\n",
        "model.fit(celsius_q, fahrenheit_a, epochs=500, verbose=False)\n",
        "print(\"Finished training the model\")\n",
        "print(model.predict([100.0]))\n",
        "print(\"Model predicts that 100 degrees Celsius is: {} degrees Fahrenheit\".format(model.predict([100.0])))\n",
        "print(\"These are the l0 variables: {}\".format(l0.get_weights()))\n",
        "print(\"These are the l1 variables: {}\".format(l1.get_weights()))\n",
        "print(\"These are the l2 variables: {}\".format(l2.get_weights()))"
      ],
      "execution_count": null,
      "outputs": [
        {
          "output_type": "stream",
          "name": "stdout",
          "text": [
            "Finished training the model\n",
            "[[211.7474]]\n",
            "Model predicts that 100 degrees Celsius is: [[211.7474]] degrees Fahrenheit\n",
            "These are the l0 variables: [array([[-0.3695859 ,  0.72354114, -0.6484167 ,  0.08811317]],\n",
            "      dtype=float32), array([ 0.34059355,  4.5094137 , -4.22488   , -3.7227216 ], dtype=float32)]\n",
            "These are the l1 variables: [array([[ 0.3450758 ,  0.45044178, -1.2013386 , -0.00657928],\n",
            "       [ 0.82886463,  0.592218  ,  0.43479663,  1.3290651 ],\n",
            "       [-0.5315449 , -0.55025715,  0.9610584 , -0.6728937 ],\n",
            "       [ 0.34909233, -1.6746137 , -0.45946455, -0.34411386]],\n",
            "      dtype=float32), array([ 3.9107125 ,  4.117259  , -0.44789279,  4.3565836 ], dtype=float32)]\n",
            "These are the l2 variables: [array([[ 0.506861  ],\n",
            "       [ 0.8368604 ],\n",
            "       [-0.12577184],\n",
            "       [ 0.7196003 ]], dtype=float32), array([3.9947715], dtype=float32)]\n"
          ]
        }
      ]
    },
    {
      "cell_type": "markdown",
      "metadata": {
        "id": "xrpFFlgYhCty"
      },
      "source": [
        "As you can see, this model is also able to predict the corresponding Fahrenheit value really well. But when you look at the variables (weights) in the `l0` and `l1` layers, they are nothing even close to ~1.8 and ~32. The added complexity hides the \"simple\" form of the conversion equation.\n",
        "\n",
        "Stay tuned for the upcoming video on how Dense layers work for the explanation."
      ]
    },
    {
      "cell_type": "code",
      "metadata": {
        "id": "5eB1B-ZOl2vf"
      },
      "source": [
        ""
      ],
      "execution_count": null,
      "outputs": []
    }
  ]
}
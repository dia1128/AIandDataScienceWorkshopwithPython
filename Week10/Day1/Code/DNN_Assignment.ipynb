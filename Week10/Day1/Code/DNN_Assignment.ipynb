{
  "nbformat": 4,
  "nbformat_minor": 0,
  "metadata": {
    "colab": {
      "name": "CNN_Assignment.ipynb",
      "provenance": []
    },
    "kernelspec": {
      "name": "python3",
      "display_name": "Python 3"
    },
    "language_info": {
      "name": "python"
    }
  },
  "cells": [
    {
      "cell_type": "code",
      "metadata": {
        "id": "3lUjPPPmX3jk"
      },
      "source": [
        "import tensorflow as tf\n",
        "from tensorflow import keras\n",
        "import numpy as np\n",
        "import pandas as pd\n",
        "import matplotlib.pyplot as plt\n",
        "import seaborn as sns"
      ],
      "execution_count": 3,
      "outputs": []
    },
    {
      "cell_type": "markdown",
      "metadata": {
        "id": "CTC3xzHnZWP0"
      },
      "source": [
        "# Loading Data"
      ]
    },
    {
      "cell_type": "markdown",
      "metadata": {
        "id": "chN9U56WZcG4"
      },
      "source": [
        "\n",
        "Source: https://archive.ics.uci.edu/ml/datasets/Forest+**Fires"
      ]
    },
    {
      "cell_type": "code",
      "metadata": {
        "id": "oMZ466eaX670"
      },
      "source": [
        "dataset_url = 'https://archive.ics.uci.edu/ml/machine-learning-databases/forest-fires/forestfires.csv'\n",
        "\n",
        "forest_df = pd.read_csv(dataset_url)\n"
      ],
      "execution_count": 4,
      "outputs": []
    },
    {
      "cell_type": "markdown",
      "metadata": {
        "id": "IAgc9ki8ZpLr"
      },
      "source": [
        "Let's see the features and their data types"
      ]
    },
    {
      "cell_type": "code",
      "metadata": {
        "colab": {
          "base_uri": "https://localhost:8080/"
        },
        "id": "9h5A_mhFX7Vw",
        "outputId": "49ded479-313a-450b-8587-78a0677a1b51"
      },
      "source": [
        "forest_df.info()"
      ],
      "execution_count": 5,
      "outputs": [
        {
          "output_type": "stream",
          "name": "stdout",
          "text": [
            "<class 'pandas.core.frame.DataFrame'>\n",
            "RangeIndex: 517 entries, 0 to 516\n",
            "Data columns (total 13 columns):\n",
            " #   Column  Non-Null Count  Dtype  \n",
            "---  ------  --------------  -----  \n",
            " 0   X       517 non-null    int64  \n",
            " 1   Y       517 non-null    int64  \n",
            " 2   month   517 non-null    object \n",
            " 3   day     517 non-null    object \n",
            " 4   FFMC    517 non-null    float64\n",
            " 5   DMC     517 non-null    float64\n",
            " 6   DC      517 non-null    float64\n",
            " 7   ISI     517 non-null    float64\n",
            " 8   temp    517 non-null    float64\n",
            " 9   RH      517 non-null    int64  \n",
            " 10  wind    517 non-null    float64\n",
            " 11  rain    517 non-null    float64\n",
            " 12  area    517 non-null    float64\n",
            "dtypes: float64(8), int64(3), object(2)\n",
            "memory usage: 52.6+ KB\n"
          ]
        }
      ]
    },
    {
      "cell_type": "markdown",
      "metadata": {
        "id": "ijngD7FtZuNf"
      },
      "source": [
        "The dataset contains 517 examples and 13 columns, 12 features and 1 label (areas)."
      ]
    },
    {
      "cell_type": "code",
      "metadata": {
        "colab": {
          "base_uri": "https://localhost:8080/"
        },
        "id": "iODZOtePX9bn",
        "outputId": "749825e6-b6ad-4064-e2af-7e0122634ec7"
      },
      "source": [
        "print(forest_df.shape)"
      ],
      "execution_count": 6,
      "outputs": [
        {
          "output_type": "stream",
          "name": "stdout",
          "text": [
            "(517, 13)\n"
          ]
        }
      ]
    },
    {
      "cell_type": "markdown",
      "metadata": {
        "id": "DZTXD06DZ2el"
      },
      "source": [
        "# Looking into the Data\n",
        "We will not go deep into analysis, but let's try to learn about the data we have. Before that, we will first split the dataset into training and test set.\n",
        "\n",
        "We will use Scikit-Learn train_test_split.\n",
        "\n"
      ]
    },
    {
      "cell_type": "code",
      "metadata": {
        "id": "NGcMtlSDYBtY"
      },
      "source": [
        "from sklearn.model_selection import train_test_split\n",
        "\n",
        "train_data, test_data = train_test_split(forest_df, test_size=0.3, random_state=42)"
      ],
      "execution_count": 7,
      "outputs": []
    },
    {
      "cell_type": "code",
      "metadata": {
        "colab": {
          "base_uri": "https://localhost:8080/"
        },
        "id": "YNUarEOQYDrf",
        "outputId": "812df3f4-b620-4cfa-bf18-405d652a628b"
      },
      "source": [
        "print('The shape of training data: {}\\nThe shape of testing data: {}'.format(train_data.shape, test_data.shape))"
      ],
      "execution_count": 8,
      "outputs": [
        {
          "output_type": "stream",
          "name": "stdout",
          "text": [
            "The shape of training data: (361, 13)\n",
            "The shape of testing data: (156, 13)\n"
          ]
        }
      ]
    },
    {
      "cell_type": "code",
      "metadata": {
        "colab": {
          "base_uri": "https://localhost:8080/",
          "height": 205
        },
        "id": "4JiGHMGcYFrX",
        "outputId": "a848dfb3-0331-4976-8862-65847b87c510"
      },
      "source": [
        "train_data.head(5)"
      ],
      "execution_count": 9,
      "outputs": [
        {
          "output_type": "execute_result",
          "data": {
            "text/html": [
              "<div>\n",
              "<style scoped>\n",
              "    .dataframe tbody tr th:only-of-type {\n",
              "        vertical-align: middle;\n",
              "    }\n",
              "\n",
              "    .dataframe tbody tr th {\n",
              "        vertical-align: top;\n",
              "    }\n",
              "\n",
              "    .dataframe thead th {\n",
              "        text-align: right;\n",
              "    }\n",
              "</style>\n",
              "<table border=\"1\" class=\"dataframe\">\n",
              "  <thead>\n",
              "    <tr style=\"text-align: right;\">\n",
              "      <th></th>\n",
              "      <th>X</th>\n",
              "      <th>Y</th>\n",
              "      <th>month</th>\n",
              "      <th>day</th>\n",
              "      <th>FFMC</th>\n",
              "      <th>DMC</th>\n",
              "      <th>DC</th>\n",
              "      <th>ISI</th>\n",
              "      <th>temp</th>\n",
              "      <th>RH</th>\n",
              "      <th>wind</th>\n",
              "      <th>rain</th>\n",
              "      <th>area</th>\n",
              "    </tr>\n",
              "  </thead>\n",
              "  <tbody>\n",
              "    <tr>\n",
              "      <th>311</th>\n",
              "      <td>6</td>\n",
              "      <td>3</td>\n",
              "      <td>sep</td>\n",
              "      <td>sun</td>\n",
              "      <td>92.4</td>\n",
              "      <td>105.8</td>\n",
              "      <td>758.1</td>\n",
              "      <td>9.9</td>\n",
              "      <td>24.8</td>\n",
              "      <td>28</td>\n",
              "      <td>1.8</td>\n",
              "      <td>0.0</td>\n",
              "      <td>14.29</td>\n",
              "    </tr>\n",
              "    <tr>\n",
              "      <th>368</th>\n",
              "      <td>6</td>\n",
              "      <td>5</td>\n",
              "      <td>sep</td>\n",
              "      <td>sat</td>\n",
              "      <td>91.2</td>\n",
              "      <td>94.3</td>\n",
              "      <td>744.4</td>\n",
              "      <td>8.4</td>\n",
              "      <td>16.8</td>\n",
              "      <td>47</td>\n",
              "      <td>4.9</td>\n",
              "      <td>0.0</td>\n",
              "      <td>12.64</td>\n",
              "    </tr>\n",
              "    <tr>\n",
              "      <th>23</th>\n",
              "      <td>7</td>\n",
              "      <td>4</td>\n",
              "      <td>aug</td>\n",
              "      <td>sat</td>\n",
              "      <td>90.2</td>\n",
              "      <td>110.9</td>\n",
              "      <td>537.4</td>\n",
              "      <td>6.2</td>\n",
              "      <td>19.5</td>\n",
              "      <td>43</td>\n",
              "      <td>5.8</td>\n",
              "      <td>0.0</td>\n",
              "      <td>0.00</td>\n",
              "    </tr>\n",
              "    <tr>\n",
              "      <th>271</th>\n",
              "      <td>8</td>\n",
              "      <td>6</td>\n",
              "      <td>aug</td>\n",
              "      <td>tue</td>\n",
              "      <td>92.1</td>\n",
              "      <td>152.6</td>\n",
              "      <td>658.2</td>\n",
              "      <td>14.3</td>\n",
              "      <td>20.1</td>\n",
              "      <td>58</td>\n",
              "      <td>4.5</td>\n",
              "      <td>0.0</td>\n",
              "      <td>9.27</td>\n",
              "    </tr>\n",
              "    <tr>\n",
              "      <th>299</th>\n",
              "      <td>6</td>\n",
              "      <td>5</td>\n",
              "      <td>jun</td>\n",
              "      <td>sat</td>\n",
              "      <td>53.4</td>\n",
              "      <td>71.0</td>\n",
              "      <td>233.8</td>\n",
              "      <td>0.4</td>\n",
              "      <td>10.6</td>\n",
              "      <td>90</td>\n",
              "      <td>2.7</td>\n",
              "      <td>0.0</td>\n",
              "      <td>0.00</td>\n",
              "    </tr>\n",
              "  </tbody>\n",
              "</table>\n",
              "</div>"
            ],
            "text/plain": [
              "     X  Y month  day  FFMC    DMC     DC   ISI  temp  RH  wind  rain   area\n",
              "311  6  3   sep  sun  92.4  105.8  758.1   9.9  24.8  28   1.8   0.0  14.29\n",
              "368  6  5   sep  sat  91.2   94.3  744.4   8.4  16.8  47   4.9   0.0  12.64\n",
              "23   7  4   aug  sat  90.2  110.9  537.4   6.2  19.5  43   5.8   0.0   0.00\n",
              "271  8  6   aug  tue  92.1  152.6  658.2  14.3  20.1  58   4.5   0.0   9.27\n",
              "299  6  5   jun  sat  53.4   71.0  233.8   0.4  10.6  90   2.7   0.0   0.00"
            ]
          },
          "metadata": {},
          "execution_count": 9
        }
      ]
    },
    {
      "cell_type": "markdown",
      "metadata": {
        "id": "1LKRDDB4aKOk"
      },
      "source": [
        "It seems that we have two categorical features, month and day. We will remember to encode them. For now we can see the number of samples in each month and later in each day."
      ]
    },
    {
      "cell_type": "code",
      "metadata": {
        "colab": {
          "base_uri": "https://localhost:8080/",
          "height": 348
        },
        "id": "1eAD2oxhYHk-",
        "outputId": "ace520db-2b2b-4eae-e71b-06d487941630"
      },
      "source": [
        "train_data['month'].value_counts().plot(kind='bar', figsize=(10,5))"
      ],
      "execution_count": 10,
      "outputs": [
        {
          "output_type": "execute_result",
          "data": {
            "text/plain": [
              "<matplotlib.axes._subplots.AxesSubplot at 0x7f5b854fd390>"
            ]
          },
          "metadata": {},
          "execution_count": 10
        },
        {
          "output_type": "display_data",
          "data": {
            "image/png": "[encoded data removed]",
            "text/plain": [
              "<Figure size 720x360 with 1 Axes>"
            ]
          },
          "metadata": {
            "needs_background": "light"
          }
        }
      ]
    },
    {
      "cell_type": "markdown",
      "metadata": {
        "id": "EuTseT_kaRU5"
      },
      "source": [
        "# Preparing the Data for the Model\n",
        "Here we will do two things, one is to normalize numerical features and the second is to encode categorical features. We can set up a pipeline to handle that.\n",
        "\n",
        "For simplicity, we will use Scikit-Learn processing functions.\n",
        "\n",
        "We will first separate features and label. We can use a function that can also be applied to test set."
      ]
    },
    {
      "cell_type": "code",
      "metadata": {
        "id": "t7Ymb5WVYJq_"
      },
      "source": [
        "def get_feats_and_labels(data, label):\n",
        "  \"\"\" Take data and label as inputs, return features and labels separated \"\"\"\n",
        "\n",
        "  data_feats = data.drop(label, axis=1)\n",
        "  data_label = data[label]\n",
        "\n",
        "  return data_feats, data_label"
      ],
      "execution_count": 11,
      "outputs": []
    },
    {
      "cell_type": "markdown",
      "metadata": {
        "id": "w3KMYxJ7abUz"
      },
      "source": [
        "Let's use the function created above to get the features and labels."
      ]
    },
    {
      "cell_type": "code",
      "metadata": {
        "id": "ah84b6hAYQWW"
      },
      "source": [
        "train_feats, train_label = get_feats_and_labels(train_data, 'area')"
      ],
      "execution_count": 12,
      "outputs": []
    },
    {
      "cell_type": "code",
      "metadata": {
        "id": "AwjFKPTrYTGo"
      },
      "source": [
        "from sklearn.compose import ColumnTransformer\n",
        "from sklearn.preprocessing import StandardScaler, OrdinalEncoder\n",
        "\n",
        "scaler = StandardScaler()\n",
        "encoder = OrdinalEncoder()\n",
        "\n",
        "\n",
        "# The column transformer requires lists of features\n",
        "\n",
        "num_feats = ['X', 'Y', 'FFMC', 'DMC', 'DC', 'ISI', 'temp', 'RH',\n",
        "       'wind', 'rain']\n",
        "cat_feats = ['month', 'day']\n",
        "\n",
        "# define the pipeline to scale the numeric features and handle categorical features\n",
        "final_pipe = ColumnTransformer([\n",
        "   ('num',scaler , num_feats),    \n",
        "   ('cat', encoder , cat_feats)                        \n",
        "\n",
        "])\n",
        "\n",
        "training_data_prepared = final_pipe.fit_transform(train_feats)"
      ],
      "execution_count": 13,
      "outputs": []
    },
    {
      "cell_type": "markdown",
      "metadata": {
        "id": "TXGaUZ7iae0t"
      },
      "source": [
        "\n",
        "Now, we can see the shape of the transformed dataset. It is a NumPy array."
      ]
    },
    {
      "cell_type": "code",
      "metadata": {
        "colab": {
          "base_uri": "https://localhost:8080/"
        },
        "id": "qKBRExfSYWKP",
        "outputId": "de242278-a57d-483f-a113-222030566d4e"
      },
      "source": [
        "training_data_prepared.shape"
      ],
      "execution_count": 14,
      "outputs": [
        {
          "output_type": "execute_result",
          "data": {
            "text/plain": [
              "(361, 12)"
            ]
          },
          "metadata": {},
          "execution_count": 14
        }
      ]
    },
    {
      "cell_type": "code",
      "metadata": {
        "colab": {
          "base_uri": "https://localhost:8080/"
        },
        "id": "HFrMGwStYYOo",
        "outputId": "fa219d6f-f9ff-49d2-f2d5-da6b659a9bcb"
      },
      "source": [
        "type(training_data_prepared)"
      ],
      "execution_count": 15,
      "outputs": [
        {
          "output_type": "execute_result",
          "data": {
            "text/plain": [
              "numpy.ndarray"
            ]
          },
          "metadata": {},
          "execution_count": 15
        }
      ]
    },
    {
      "cell_type": "markdown",
      "metadata": {
        "id": "YpEq24gKa80l"
      },
      "source": [
        "Also let's tranform the test set. Note that for the test set, we don't fit_transform().\n",
        "\n",
        "We will get the features and labels separated first."
      ]
    },
    {
      "cell_type": "code",
      "metadata": {
        "id": "mMssYn5FYa3P"
      },
      "source": [
        "test_feats, test_label = get_feats_and_labels(test_data, 'area')"
      ],
      "execution_count": 16,
      "outputs": []
    },
    {
      "cell_type": "code",
      "metadata": {
        "id": "ugV4L_sSYyXg"
      },
      "source": [
        "test_data_prepared = final_pipe.transform(test_feats)"
      ],
      "execution_count": 17,
      "outputs": []
    },
    {
      "cell_type": "code",
      "metadata": {
        "id": "6_Uvop9pYc04"
      },
      "source": [
        "train_label = train_label.to_numpy()\n",
        "test_label = test_label.to_numpy()"
      ],
      "execution_count": 18,
      "outputs": []
    },
    {
      "cell_type": "markdown",
      "metadata": {
        "id": "XbfzsO2ZbfV0"
      },
      "source": [
        "# Creating, Compiling and Training a Model\n",
        "Now that our data is prepared, it's time to create a neural network.\n",
        "Everytime we are creating a model in TensorFlow, we have to specify the input shape. In this example, the input shape will be:"
      ]
    },
    {
      "cell_type": "code",
      "metadata": {
        "colab": {
          "base_uri": "https://localhost:8080/"
        },
        "id": "KHWUFXyEYe0o",
        "outputId": "40f116fd-a8a6-46ba-82fd-69d8562bb404"
      },
      "source": [
        "input_shape = training_data_prepared.shape[1:]\n",
        "input_shape"
      ],
      "execution_count": 19,
      "outputs": [
        {
          "output_type": "execute_result",
          "data": {
            "text/plain": [
              "(12,)"
            ]
          },
          "metadata": {},
          "execution_count": 19
        }
      ]
    },
    {
      "cell_type": "markdown",
      "metadata": {
        "id": "exknyvWlcrtT"
      },
      "source": [
        "# Exercise"
      ]
    },
    {
      "cell_type": "code",
      "metadata": {
        "id": "CLf0LUOJdk1N"
      },
      "source": [
        "#Create the model here. \n",
        "\n",
        "model = keras.models.Sequential([\n",
        "                                 \n",
        "            # Your layers must specify the input shape always. You can add as many dense layers as you want.\n",
        "          \n",
        "            # The last layer usually doesn't have activation function in regression\n",
        "                     \n",
        "\n",
        "])\n",
        "\n",
        "# Now we compile the model\n",
        "model.compile(loss='mean_squared_error', optimizer='adam')"
      ],
      "execution_count": null,
      "outputs": []
    },
    {
      "cell_type": "code",
      "metadata": {
        "id": "u_2TdC03d9XE"
      },
      "source": [
        "#Show your model summary here"
      ],
      "execution_count": null,
      "outputs": []
    },
    {
      "cell_type": "code",
      "metadata": {
        "id": "2_IMeJtKYltQ"
      },
      "source": [
        "#train your model here\n",
        "model.fit(# insert the parameters)"
      ],
      "execution_count": 20,
      "outputs": []
    },
    {
      "cell_type": "markdown",
      "metadata": {
        "id": "AFV2vS41b-yP"
      },
      "source": [
        "# Evaluating a Model\n",
        "After we have trained the model, the next step is to evaluate it."
      ]
    },
    {
      "cell_type": "code",
      "metadata": {
        "id": "xg80x4IvY3_A"
      },
      "source": [
        "#To evaluate the model, run this cell\n",
        "model.evaluate(test_data_prepared, test_label)"
      ],
      "execution_count": 21,
      "outputs": []
    },
    {
      "cell_type": "markdown",
      "metadata": {
        "id": "pEuoD0eecHnm"
      },
      "source": [
        "#Bonus: Improving the model"
      ]
    },
    {
      "cell_type": "code",
      "metadata": {
        "id": "AeAwfDX8ecWk"
      },
      "source": [
        "#Can you improve the model? "
      ],
      "execution_count": null,
      "outputs": []
    }
  ]
}
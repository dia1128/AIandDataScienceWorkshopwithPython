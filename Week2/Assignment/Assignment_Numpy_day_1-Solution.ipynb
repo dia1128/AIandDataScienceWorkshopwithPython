{
  "nbformat": 4,
  "nbformat_minor": 2,
  "metadata": {
    "colab": {
      "name": "Assignment Numpy day-1.ipynb",
      "provenance": []
    },
    "kernelspec": {
      "name": "python3",
      "display_name": "Python 3"
    },
    "language_info": {
      "name": "python"
    }
  },
  "cells": [
    {
      "cell_type": "markdown",
      "source": [
        "#AI and Data Science Workshop with Python\n",
        "Introduction to Numpy\n",
        "\n",
        "\n",
        "Assignment 01"
      ],
      "metadata": {
        "id": "WUjqhjl2MJsP"
      }
    },
    {
      "cell_type": "markdown",
      "source": [
        "\n",
        "1- Create a NumPy array and test whether any elements of the array are non-zero\n",
        "a sample output can be like this:\n",
        "```\n",
        "[1 2 3 4]\n",
        "True\n",
        "[0 1 2 3]\n",
        "False\n",
        "```"
      ],
      "metadata": {
        "id": "UUsSijrpMuic"
      }
    },
    {
      "cell_type": "code",
      "execution_count": null,
      "source": [
        "#answer\r\n",
        "import numpy as np\r\n",
        "x = np.array([1, 2, 3, 4])\r\n",
        "print(x)\r\n",
        "print(np.all(x))\r\n",
        "x = np.array([0, 1, 2, 3])\r\n",
        "print(x)\r\n",
        "print(np.all(x))"
      ],
      "outputs": [
        {
          "output_type": "stream",
          "name": "stdout",
          "text": [
            "[1 2 3 4]\n",
            "True\n",
            "[0 1 2 3]\n",
            "False\n"
          ]
        }
      ],
      "metadata": {
        "colab": {
          "base_uri": "https://localhost:8080/"
        },
        "id": "dqIDAwMKMQaS",
        "outputId": "2cc2915f-6cd0-49da-a410-0d899cfc1f4c"
      }
    },
    {
      "cell_type": "markdown",
      "source": [
        "2- Create a NumPy array of integer in range of 30 to 70\n",
        "the result can be as follow:\n",
        "```\n",
        "Array of the integers from 30 to70\n",
        "[30 31 32 33 34 35 36 37 38 39 40 41 42 43 44 45 46 47 48 49 50 51 52 53\n",
        " 54 55 56 57 58 59 60 61 62 63 64 65 66 67 68 69 70]\n",
        " ```\n"
      ],
      "metadata": {
        "id": "2DHGa-Rhj1G-"
      }
    },
    {
      "cell_type": "code",
      "execution_count": null,
      "source": [
        "#answer\r\n",
        "import numpy as np\r\n",
        "array=np.arange(30,71)\r\n",
        "print(\"Array of the integers from 30 to70\")\r\n",
        "print(array)"
      ],
      "outputs": [
        {
          "output_type": "stream",
          "name": "stdout",
          "text": [
            "Array of the integers from 30 to70\n",
            "[30 31 32 33 34 35 36 37 38 39 40 41 42 43 44 45 46 47 48 49 50 51 52 53\n",
            " 54 55 56 57 58 59 60 61 62 63 64 65 66 67 68 69 70]\n"
          ]
        }
      ],
      "metadata": {
        "id": "kjp9G6ifj5kh",
        "colab": {
          "base_uri": "https://localhost:8080/"
        },
        "outputId": "26eede9e-bafc-41b3-92c5-a40dc7a15066"
      }
    },
    {
      "cell_type": "markdown",
      "source": [
        "3- Create two NumPy array with the same number of elements and compare them to see if their elements are equal. you can use `equal()` function\n",
        "\n",
        "A sample result can be as follow:\n",
        "Original numbers:\n",
        "```\n",
        "[ 12  43  56  14  67  -1 120 -12  60  10]\n",
        "[ 12.        43.        56.        14.        67.        -1.\n",
        " 120.       -12.        60.        10.000001]\n",
        "Comparison - equal:\n",
        "[ True  True  True  True  True  True  True  True  True False]\n",
        "```"
      ],
      "metadata": {
        "id": "QapxBIjjcuAS"
      }
    },
    {
      "cell_type": "code",
      "execution_count": null,
      "source": [
        "#answer\r\n",
        "import numpy as np\r\n",
        "x = np.array([12, 43, 56, 14, 67, -1, 120, -12, 60, 10])\r\n",
        "y = np.array([12, 43, 56, 14, 67, -1, 120, -12, 60, 10.000001])\r\n",
        "print(\"Original numbers:\")\r\n",
        "print(x)\r\n",
        "print(y)\r\n",
        "print(\"Comparison - equal:\")\r\n",
        "print(np.equal(x, y))\r\n"
      ],
      "outputs": [
        {
          "output_type": "stream",
          "name": "stdout",
          "text": [
            "Original numbers:\n",
            "[ 12  43  56  14  67  -1 120 -12  60  10]\n",
            "[ 12.        43.        56.        14.        67.        -1.\n",
            " 120.       -12.        60.        10.000001]\n",
            "Comparison - equal:\n",
            "[ True  True  True  True  True  True  True  True  True False]\n"
          ]
        }
      ],
      "metadata": {
        "colab": {
          "base_uri": "https://localhost:8080/"
        },
        "id": "AE2PGE_bji0V",
        "outputId": "c04def37-a58b-4132-d14b-a3f471f9b2f4"
      }
    },
    {
      "cell_type": "markdown",
      "source": [
        "4- Write a NumPy program to create a 3X4 array and iterate over it to print the items"
      ],
      "metadata": {
        "id": "_WbEqu_ckWof"
      }
    },
    {
      "cell_type": "code",
      "execution_count": null,
      "source": [
        "#the answer\r\n",
        "import numpy as np\r\n",
        "a = np.arange(10,22).reshape((3, 4))\r\n",
        "print(\"Original array:\")\r\n",
        "print(a)\r\n",
        "print(\"Each element of the array is:\")\r\n",
        "for x in a:\r\n",
        "  print(x)"
      ],
      "outputs": [
        {
          "output_type": "stream",
          "name": "stdout",
          "text": [
            "Original array:\n",
            "[[10 11 12 13]\n",
            " [14 15 16 17]\n",
            " [18 19 20 21]]\n",
            "Each element of the array is:\n",
            "10 11 12 13 14 15 16 17 18 19 20 21 "
          ]
        }
      ],
      "metadata": {
        "id": "H2u3iGeDkYmX",
        "colab": {
          "base_uri": "https://localhost:8080/"
        },
        "outputId": "3631c90c-89a1-49b2-c50d-86da691a8ec7"
      }
    },
    {
      "cell_type": "markdown",
      "source": [
        "5- Using NumPy, create a 4x5 matrix filled with values from 1 to 20"
      ],
      "metadata": {
        "id": "LgzWSvAHmUVE"
      }
    },
    {
      "cell_type": "code",
      "execution_count": null,
      "source": [
        "#answer\r\n",
        "import numpy as np\r\n",
        "m= np.arange(0,20).reshape((4, 5))\r\n",
        "print(m)"
      ],
      "outputs": [
        {
          "output_type": "stream",
          "name": "stdout",
          "text": [
            "[[ 0  1  2  3  4]\n",
            " [ 5  6  7  8  9]\n",
            " [10 11 12 13 14]\n",
            " [15 16 17 18 19]]\n"
          ]
        }
      ],
      "metadata": {
        "id": "UF-dEmgmmXLa",
        "colab": {
          "base_uri": "https://localhost:8080/"
        },
        "outputId": "88fb5cce-3feb-4507-c08c-032ac31d46d6"
      }
    },
    {
      "cell_type": "markdown",
      "source": [
        "6- We have created a matrix of size 5x4 as follow:"
      ],
      "metadata": {
        "id": "Q29xxMw9z7tw"
      }
    },
    {
      "cell_type": "code",
      "execution_count": null,
      "source": [
        "import numpy as np\r\n",
        "sizes = np.array(\r\n",
        "[[2,  8, 8, 3],\r\n",
        "[6,  13, 1, 6],\r\n",
        "[9,  5, 3, 7],\r\n",
        "[3,  22, 9, 2],\r\n",
        "[12, 7, 2, 9]])"
      ],
      "outputs": [],
      "metadata": {
        "id": "6drPPEK3z6kJ"
      }
    },
    {
      "cell_type": "markdown",
      "source": [
        "Write a NumPy code that retrieves the last column of sizes matrix:"
      ],
      "metadata": {
        "id": "dS1kxD5z1ZBY"
      }
    },
    {
      "cell_type": "code",
      "execution_count": null,
      "source": [
        "#answer\r\n",
        "sizes[:,-1]"
      ],
      "outputs": [
        {
          "output_type": "execute_result",
          "data": {
            "text/plain": [
              "array([3, 6, 7, 2, 9])"
            ]
          },
          "metadata": {},
          "execution_count": 24
        }
      ],
      "metadata": {
        "colab": {
          "base_uri": "https://localhost:8080/"
        },
        "id": "8rw37g6d1nup",
        "outputId": "80c362a9-6b1a-4508-f3b6-f718328e6d88"
      }
    },
    {
      "cell_type": "markdown",
      "source": [
        "Write a Numpy code that retrieves the following submatrix from `sizes`:\n",
        "\n",
        "```\n",
        "array([[13,  1],\n",
        "       [ 5,  3]])\n",
        "```"
      ],
      "metadata": {
        "id": "ueGQkIKq1pOi"
      }
    },
    {
      "cell_type": "code",
      "execution_count": null,
      "source": [
        "#answer\r\n",
        "sizes[1:3,1:3]"
      ],
      "outputs": [
        {
          "output_type": "execute_result",
          "data": {
            "text/plain": [
              "array([[13,  1],\n",
              "       [ 5,  3]])"
            ]
          },
          "metadata": {},
          "execution_count": 26
        }
      ],
      "metadata": {
        "colab": {
          "base_uri": "https://localhost:8080/"
        },
        "id": "qsfmxe1A15GU",
        "outputId": "1bdbcaba-4ee1-47c6-9f6a-d2b6afeb6612"
      }
    },
    {
      "cell_type": "markdown",
      "source": [
        "Write a NumPy program that in result create an array containing such items of the sizes matrix, which are greater than 10"
      ],
      "metadata": {
        "id": "2o5rFIkV8bEm"
      }
    },
    {
      "cell_type": "code",
      "execution_count": null,
      "source": [
        "#answer\r\n",
        "sizes[sizes >= 10]"
      ],
      "outputs": [
        {
          "output_type": "execute_result",
          "data": {
            "text/plain": [
              "array([13, 22, 12])"
            ]
          },
          "metadata": {},
          "execution_count": 27
        }
      ],
      "metadata": {
        "colab": {
          "base_uri": "https://localhost:8080/"
        },
        "id": "JYbEYt-48XF7",
        "outputId": "9b517d9d-c856-44f1-d917-a98abd19b9df"
      }
    }
  ]
}
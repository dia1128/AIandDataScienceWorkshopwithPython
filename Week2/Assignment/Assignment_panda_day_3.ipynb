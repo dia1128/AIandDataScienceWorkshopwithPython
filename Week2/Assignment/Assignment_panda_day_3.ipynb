{
  "nbformat": 4,
  "nbformat_minor": 0,
  "metadata": {
    "colab": {
      "name": "Assignment_panda_day_3.ipynb",
      "provenance": []
    },
    "kernelspec": {
      "name": "python3",
      "display_name": "Python 3"
    },
    "language_info": {
      "name": "python"
    }
  },
  "cells": [
    {
      "cell_type": "markdown",
      "metadata": {
        "id": "fFCUi4g1uVGQ"
      },
      "source": [
        "#AI and Data Science Workshop with Python\n",
        "\n",
        "Assignment 02\n",
        "\n",
        "Pandas\n",
        "\n",
        "The reqired datasets are`example.xlsx` and  `tips.csv`."
      ]
    },
    {
      "cell_type": "markdown",
      "metadata": {
        "id": "TuVsfXpWuck-"
      },
      "source": [
        "1- Upload this xlsx file in your google drive and read the excel file using pandas. \n",
        "To read an excel file you can use `pd.read_excel()`\n"
      ]
    },
    {
      "cell_type": "code",
      "metadata": {
        "id": "dRSCw0lFmpIe"
      },
      "source": [
        ""
      ],
      "execution_count": null,
      "outputs": []
    },
    {
      "cell_type": "markdown",
      "metadata": {
        "id": "DYUW_0LN0bYC"
      },
      "source": [
        "2- Write a Pandas code to get the datatype of the data"
      ]
    },
    {
      "cell_type": "code",
      "metadata": {
        "id": "bpCGPMnn0bkj"
      },
      "source": [
        ""
      ],
      "execution_count": null,
      "outputs": []
    },
    {
      "cell_type": "markdown",
      "metadata": {
        "id": "I40Ccth44TZl"
      },
      "source": [
        "3- Write a Pandas code to read the first three columns"
      ]
    },
    {
      "cell_type": "code",
      "metadata": {
        "id": "Jsmm0VBx4Tql"
      },
      "source": [
        ""
      ],
      "execution_count": null,
      "outputs": []
    },
    {
      "cell_type": "markdown",
      "metadata": {
        "id": "Srv6Zq-X5MGT"
      },
      "source": [
        "4- Write a Pandas code to calculate sum, mean, max, and min of the \"Production (short tons)\" column"
      ]
    },
    {
      "cell_type": "code",
      "metadata": {
        "id": "Js1tzJZ45R-c"
      },
      "source": [
        ""
      ],
      "execution_count": null,
      "outputs": []
    },
    {
      "cell_type": "markdown",
      "metadata": {
        "id": "viwwgKRZCurX"
      },
      "source": [
        "5- Write a pandas code to print the last 5 rows"
      ]
    },
    {
      "cell_type": "code",
      "metadata": {
        "id": "V2t9_rpP6NOX"
      },
      "source": [
        ""
      ],
      "execution_count": null,
      "outputs": []
    },
    {
      "cell_type": "markdown",
      "metadata": {
        "id": "w4pby59_DJHx"
      },
      "source": [
        "6- Write a pandas code to print a statistical summary of each column"
      ]
    },
    {
      "cell_type": "code",
      "metadata": {
        "id": "4WG_YtWt_HOb"
      },
      "source": [
        ""
      ],
      "execution_count": null,
      "outputs": []
    },
    {
      "cell_type": "markdown",
      "metadata": {
        "id": "R4nvpGLRDycq"
      },
      "source": [
        "7- Write a pandas code to print the first 3 rows of the dataset"
      ]
    },
    {
      "cell_type": "code",
      "metadata": {
        "id": "9Db90I-p_tO8"
      },
      "source": [
        ""
      ],
      "execution_count": null,
      "outputs": []
    },
    {
      "cell_type": "markdown",
      "metadata": {
        "id": "e5WkV-gfAC_w"
      },
      "source": [
        "8- Write a Pandas code to details a part of data that \"Average Employees\" > 20"
      ]
    },
    {
      "cell_type": "code",
      "metadata": {
        "id": "wFstrLxv_xLX"
      },
      "source": [
        ""
      ],
      "execution_count": null,
      "outputs": []
    },
    {
      "cell_type": "markdown",
      "metadata": {
        "id": "Ed6eaOGYS1hP"
      },
      "source": [
        "9- Plot a line chart for the provide arrays, considering x to be x axis, and y to be y axis.\n"
      ]
    },
    {
      "cell_type": "code",
      "metadata": {
        "id": "uyOAykK4bzfi"
      },
      "source": [
        "import matplotlib.pyplot as plt\n",
        "x = np.array([15,17,18,20,22,26,28,32,37,40,42,44,48])\n",
        "y = np.array([10,30,40,60,70,86,89,90,92,95,98,100,106])\n"
      ],
      "execution_count": null,
      "outputs": []
    },
    {
      "cell_type": "markdown",
      "metadata": {
        "id": "8hvgF6Qga5yJ"
      },
      "source": [
        "10- Using the `tips` dataset, show Labor hours for each days using the column: `day` and `tip`, in a bar plot. Hint: use `bar()`.\n",
        "`you can see the dataset in assignment folder`\n",
        "\n",
        "![download (221).png](data:image/png;base64,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)"
      ]
    },
    {
      "cell_type": "code",
      "metadata": {
        "id": "hD5vVuk3aEOb"
      },
      "source": [
        "df = pd.read_csv('')\n"
      ],
      "execution_count": null,
      "outputs": []
    },
    {
      "cell_type": "markdown",
      "metadata": {
        "id": "eDYl3ZbReHwE"
      },
      "source": [
        "Using the provided arrays, plot a pie chart as follow.\n",
        "![downloddad.png](data:image/png;base64,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)"
      ]
    },
    {
      "cell_type": "code",
      "metadata": {
        "id": "U9065ecZdUUw"
      },
      "source": [
        "Score = np.array([35, 25, 25, 15])\n",
        "Name = np.array(['Sara', 'Sadia', 'Neda', 'Arun'])\n"
      ],
      "execution_count": null,
      "outputs": []
    }
  ]
}
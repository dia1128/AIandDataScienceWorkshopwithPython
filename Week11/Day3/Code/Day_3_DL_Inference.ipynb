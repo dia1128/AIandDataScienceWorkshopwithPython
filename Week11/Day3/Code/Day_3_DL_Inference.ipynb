{
  "nbformat": 4,
  "nbformat_minor": 0,
  "metadata": {
    "colab": {
      "name": "Day 3 - DL Inference.ipynb",
      "provenance": [],
      "collapsed_sections": []
    },
    "kernelspec": {
      "name": "python3",
      "display_name": "Python 3"
    },
    "language_info": {
      "name": "python"
    }
  },
  "cells": [
    {
      "cell_type": "markdown",
      "metadata": {
        "id": "GSwJesULrHNe"
      },
      "source": [
        "# Deep Learning Inference using Pretrained AI Models"
      ]
    },
    {
      "cell_type": "code",
      "metadata": {
        "id": "5CBjfFLvrNZl"
      },
      "source": [
        "import os\n",
        "import pathlib\n",
        "import scipy.misc\n",
        "import tarfile\n",
        "import tempfile\n",
        "import matplotlib\n",
        "import numpy as np\n",
        "import tensorflow as tf\n",
        "import tensorflow_hub as hub\n",
        "\n",
        "from io import BytesIO\n",
        "from six.moves import urllib\n",
        "from six.moves.urllib.request import urlopen\n",
        "from matplotlib import gridspec\n",
        "from matplotlib import pyplot as plt\n",
        "from PIL import Image, ImageDraw, ImageFont\n",
        "\n",
        "os.environ['TF_CPP_MIN_LOG_LEVEL'] = '3'    # Suppress TensorFlow logging (1)\n",
        "tf.get_logger().setLevel('ERROR')"
      ],
      "execution_count": null,
      "outputs": []
    },
    {
      "cell_type": "markdown",
      "metadata": {
        "id": "22IxXiZhzuEx"
      },
      "source": [
        "# Image Classification"
      ]
    },
    {
      "cell_type": "markdown",
      "metadata": {
        "id": "r-s1nqCh7Bgn"
      },
      "source": [
        "## Step 1: Load the Pretrained Models"
      ]
    },
    {
      "cell_type": "code",
      "metadata": {
        "id": "6mxu56pQzrp3"
      },
      "source": [
        "from tensorflow.keras.applications.resnet50 import ResNet50\n",
        "from tensorflow.keras.applications.resnet50 import preprocess_input, decode_predictions\n",
        "model = ResNet50(weights='imagenet')"
      ],
      "execution_count": null,
      "outputs": []
    },
    {
      "cell_type": "markdown",
      "metadata": {
        "id": "tp0p5C5DycU3"
      },
      "source": [
        "## Step 2: Load and preprocess an image from the Internet"
      ]
    },
    {
      "cell_type": "code",
      "metadata": {
        "id": "23Q8KQiBvJsO"
      },
      "source": [
        "url = 'https://thumbor.forbes.com/thumbor/960x0/https%3A%2F%2Fspecials-images.forbesimg.com%2Fimageserve%2F5db4c7b464b49a0007e9dfac%2FPhoto-of-Maltese-dog%2F960x0.jpg%3Ffit%3Dscale'\n",
        "url = 'https://i.guim.co.uk/img/media/684c9d087dab923db1ce4057903f03293b07deac/205_132_1915_1150/master/1915.jpg?width=1020&quality=45&auto=format&fit=max&dpr=2&s=a634e9501725b30f045481c39ac2dd1d'\n",
        "f = urllib.request.urlopen(url)\n",
        "jpeg_str = f.read()\n",
        "original_im = Image.open(BytesIO(jpeg_str))\n",
        "original_im = original_im.resize((224,224))\n",
        "original_im = np.array(original_im).reshape(224,224,3)\n",
        "plt.imshow(original_im)"
      ],
      "execution_count": null,
      "outputs": []
    },
    {
      "cell_type": "markdown",
      "metadata": {
        "id": "iil2w50ay2J7"
      },
      "source": [
        "## Step 3: Carry out Inference on the pretrained model using model.predict()"
      ]
    },
    {
      "cell_type": "code",
      "metadata": {
        "id": "45ByCZ_dwU6O"
      },
      "source": [
        "predictions = model.predict(np.expand_dims(original_im, axis=0))\n",
        "predicted_class = decode_predictions(predictions, top=1)\n",
        "\n",
        "plt.imshow(original_im)\n",
        "plt.axis('off')\n",
        "_ = plt.title(\"Prediction: \" + predicted_class[0][0][1])"
      ],
      "execution_count": null,
      "outputs": []
    },
    {
      "cell_type": "code",
      "metadata": {
        "id": "Or9-9syZyVXw"
      },
      "source": [
        ""
      ],
      "execution_count": null,
      "outputs": []
    },
    {
      "cell_type": "code",
      "metadata": {
        "id": "8vibwpRYyU6i"
      },
      "source": [
        ""
      ],
      "execution_count": null,
      "outputs": []
    },
    {
      "cell_type": "code",
      "metadata": {
        "id": "EG5OrsR2yUbX"
      },
      "source": [
        ""
      ],
      "execution_count": null,
      "outputs": []
    },
    {
      "cell_type": "markdown",
      "metadata": {
        "id": "ULet_ipAw3Sa"
      },
      "source": [
        "# Object Detection"
      ]
    },
    {
      "cell_type": "code",
      "metadata": {
        "id": "VthAmNIHBpdT"
      },
      "source": [
        "%%bash\n",
        "git clone https://github.com/tensorflow/models.git\n",
        "\n",
        "cd models/research\n",
        "# Compile protos.\n",
        "protoc object_detection/protos/*.proto --python_out=.\n",
        "# Install TensorFlow Object Detection API.\n",
        "cp object_detection/packages/tf2/setup.py .\n",
        "python -m pip install --use-feature=2020-resolver ."
      ],
      "execution_count": null,
      "outputs": []
    },
    {
      "cell_type": "markdown",
      "metadata": {
        "id": "IUfQkCCz-rCt"
      },
      "source": [
        "## Step 1: Load the Pretrained Model"
      ]
    },
    {
      "cell_type": "code",
      "metadata": {
        "id": "LhvTdJ24-rug"
      },
      "source": [
        "import time\n",
        "from object_detection.utils import label_map_util\n",
        "from object_detection.utils import visualization_utils as viz_utils\n",
        "\n",
        "# Function to Download and extract model\n",
        "def download_model(model_name, model_date):\n",
        "    base_url = 'http://download.tensorflow.org/models/object_detection/tf2/'\n",
        "    model_file = model_name + '.tar.gz'\n",
        "    model_dir = tf.keras.utils.get_file(fname=model_name,\n",
        "                                        origin=base_url + model_date + '/' + model_file,\n",
        "                                        untar=True)\n",
        "    return str(model_dir)\n",
        "\n",
        "# Function to Download labels file\n",
        "def download_labels(filename):\n",
        "    base_url = 'https://raw.githubusercontent.com/tensorflow/models/master/research/object_detection/data/'\n",
        "    label_dir = tf.keras.utils.get_file(fname=filename,\n",
        "                                        origin=base_url + filename,\n",
        "                                        untar=False)\n",
        "    label_dir = pathlib.Path(label_dir)\n",
        "    return str(label_dir)\n",
        "\n",
        "\n",
        "MODEL_DATE = '20200711'\n",
        "MODEL_NAME = 'centernet_hg104_1024x1024_coco17_tpu-32'\n",
        "PATH_TO_MODEL_DIR = download_model(MODEL_NAME, MODEL_DATE)\n",
        "\n",
        "LABEL_FILENAME = 'mscoco_label_map.pbtxt'\n",
        "PATH_TO_LABELS = download_labels(LABEL_FILENAME)\n",
        "\n",
        "category_index = label_map_util.create_category_index_from_labelmap(PATH_TO_LABELS, use_display_name=True)"
      ],
      "execution_count": null,
      "outputs": []
    },
    {
      "cell_type": "markdown",
      "metadata": {
        "id": "dgSNmYsHEeyR"
      },
      "source": [
        "**Load the Pretrained Model**"
      ]
    },
    {
      "cell_type": "code",
      "metadata": {
        "id": "znw9PP5h-r8O"
      },
      "source": [
        "PATH_TO_SAVED_MODEL = PATH_TO_MODEL_DIR + \"/saved_model\"\n",
        "\n",
        "print('Loading model...', end='')\n",
        "start_time = time.time()\n",
        "\n",
        "# Load saved model and build the detection function\n",
        "detect_fn = tf.saved_model.load(PATH_TO_SAVED_MODEL)\n",
        "\n",
        "end_time = time.time()\n",
        "elapsed_time = end_time - start_time\n",
        "print('Done! Took {} seconds'.format(elapsed_time))"
      ],
      "execution_count": null,
      "outputs": []
    },
    {
      "cell_type": "markdown",
      "metadata": {
        "id": "a1mqTaoWEpHg"
      },
      "source": [
        "## Step 2: Load the image"
      ]
    },
    {
      "cell_type": "code",
      "metadata": {
        "id": "rlWixqQ7CYiI"
      },
      "source": [
        "url = 'https://i5.walmartimages.com/asr/12516853-fa35-46ff-9678-5829bc037e5c.34f02985dade5d86beac256fb2e6c1dd.jpeg?odnHeight=612&odnWidth=612&odnBg=FFFFFF'\n",
        "f = urllib.request.urlopen(url)\n",
        "jpeg_str = f.read()\n",
        "original_im = Image.open(BytesIO(jpeg_str))\n",
        "original_im = np.array(original_im)\n",
        "plt.imshow(original_im)\n",
        "\n",
        "input_tensor = tf.convert_to_tensor(original_im)\n",
        "input_tensor = input_tensor[tf.newaxis, ...]"
      ],
      "execution_count": null,
      "outputs": []
    },
    {
      "cell_type": "code",
      "metadata": {
        "id": "IbwNhEMpEwgo"
      },
      "source": [
        "## Step 3: Carry out inference using the Pretrained model"
      ],
      "execution_count": null,
      "outputs": []
    },
    {
      "cell_type": "code",
      "metadata": {
        "id": "h4ziv0z5EvgE"
      },
      "source": [
        "detections = detect_fn(input_tensor)\n",
        "\n",
        "num_detections = int(detections.pop('num_detections'))\n",
        "detections = {key: value[0, :num_detections].numpy()\n",
        "                for key, value in detections.items()}\n",
        "detections['num_detections'] = num_detections\n",
        "\n",
        "# detection_classes should be ints.\n",
        "detections['detection_classes'] = detections['detection_classes'].astype(np.int64)\n",
        "\n",
        "image_np_with_detections = original_im.copy()\n",
        "\n",
        "viz_utils.visualize_boxes_and_labels_on_image_array(\n",
        "      image_np_with_detections,\n",
        "      detections['detection_boxes'],\n",
        "      detections['detection_classes'],\n",
        "      detections['detection_scores'],\n",
        "      category_index,\n",
        "      use_normalized_coordinates=True,\n",
        "      max_boxes_to_draw=200,\n",
        "      min_score_thresh=.30,\n",
        "      agnostic_mode=False)\n",
        "\n",
        "plt.figure(figsize=(18, 16), dpi=80)\n",
        "\n",
        "plt.imshow(image_np_with_detections)\n",
        "print('Done')"
      ],
      "execution_count": null,
      "outputs": []
    },
    {
      "cell_type": "code",
      "metadata": {
        "id": "EqBY4mbsycGJ"
      },
      "source": [
        ""
      ],
      "execution_count": null,
      "outputs": []
    },
    {
      "cell_type": "code",
      "metadata": {
        "id": "DNJ8YbCdybuO"
      },
      "source": [
        ""
      ],
      "execution_count": null,
      "outputs": []
    },
    {
      "cell_type": "code",
      "metadata": {
        "id": "CLyK9AlFybIp"
      },
      "source": [
        ""
      ],
      "execution_count": null,
      "outputs": []
    },
    {
      "cell_type": "markdown",
      "metadata": {
        "id": "EHq1Bp1r91jo"
      },
      "source": [
        "# Natural Language Processing Examples\n",
        "# Sentiment Analysis Engine"
      ]
    },
    {
      "cell_type": "code",
      "metadata": {
        "id": "NXDr5ILo9-ZT"
      },
      "source": [
        "!pip install -U pysentimiento"
      ],
      "execution_count": null,
      "outputs": []
    },
    {
      "cell_type": "code",
      "metadata": {
        "id": "T3pw6IUV97_m"
      },
      "source": [
        "from pysentimiento import EmotionAnalyzer\n",
        "emotion_analyzer = EmotionAnalyzer(lang=\"en\")"
      ],
      "execution_count": null,
      "outputs": []
    },
    {
      "cell_type": "code",
      "metadata": {
        "id": "Me02kuE_-CMw"
      },
      "source": [
        "emotion_analyzer.predict(\"This is so terrible...\")"
      ],
      "execution_count": null,
      "outputs": []
    },
    {
      "cell_type": "code",
      "metadata": {
        "id": "LLNFKmt8-GMm"
      },
      "source": [
        "emotion_analyzer.predict(\"It is ridiculous, I am over this.\")"
      ],
      "execution_count": null,
      "outputs": []
    },
    {
      "cell_type": "code",
      "metadata": {
        "id": "K1brmIi1_Gj1"
      },
      "source": [
        ""
      ],
      "execution_count": null,
      "outputs": []
    }
  ]
}